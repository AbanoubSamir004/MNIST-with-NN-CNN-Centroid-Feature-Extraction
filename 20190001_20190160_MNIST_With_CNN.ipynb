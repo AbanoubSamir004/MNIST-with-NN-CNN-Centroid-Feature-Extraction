{
  "cells": [
    {
      "cell_type": "raw",
      "id": "603a8e96",
      "metadata": {
        "id": "603a8e96"
      },
      "source": [
        "Name: Abanoub Samir Girgis ID: 20190001\n",
        "\n",
        "Name: Joyce Fayek Milad    ID: 20190160\n",
        "\n",
        "Group: S2\n",
        "\n",
        "Assignment Number: 3"
      ]
    },
    {
      "cell_type": "markdown",
      "id": "d675d216",
      "metadata": {
        "id": "d675d216"
      },
      "source": [
        "\n",
        "# Importing libraries\n"
      ]
    },
    {
      "cell_type": "code",
      "execution_count": null,
      "id": "623d02fc",
      "metadata": {
        "id": "623d02fc"
      },
      "outputs": [],
      "source": [
        "import tensorflow as tf\n",
        "%matplotlib inline \n",
        "from tensorflow import keras\n",
        "from sklearn import metrics\n",
        "import numpy as np\n",
        "from keras.models import Sequential\n",
        "from keras.layers.core import Dense, Dropout, Activation, Flatten\n",
        "from keras.layers.convolutional import Conv2D\n",
        "from keras.layers.pooling import MaxPooling2D\n",
        "from tensorflow.keras.optimizers import Adam,Nadam, SGD"
      ]
    },
    {
      "cell_type": "markdown",
      "id": "6e1c4542",
      "metadata": {
        "id": "6e1c4542"
      },
      "source": [
        "# Loading dataset"
      ]
    },
    {
      "cell_type": "code",
      "execution_count": null,
      "id": "21c24944",
      "metadata": {
        "scrolled": false,
        "id": "21c24944"
      },
      "outputs": [],
      "source": [
        "(x_train,y_train) , (x_test ,y_test) = keras.datasets.mnist.load_data()"
      ]
    },
    {
      "cell_type": "code",
      "execution_count": null,
      "id": "015c35c7",
      "metadata": {
        "id": "015c35c7",
        "colab": {
          "base_uri": "https://localhost:8080/"
        },
        "outputId": "a0abdfde-22f3-4521-b93d-04cbfa5101d3"
      },
      "outputs": [
        {
          "output_type": "stream",
          "name": "stdout",
          "text": [
            "10000 1000\n"
          ]
        }
      ],
      "source": [
        "x_train = x_train[:10000,:,:]\n",
        "x_test = x_test[:1000,:,:]\n",
        "y_train = y_train[:10000]\n",
        "y_test  = y_test[:1000]\n",
        "\n",
        "print(len(x_train), len(x_test))\n"
      ]
    },
    {
      "cell_type": "markdown",
      "id": "2849c6dc",
      "metadata": {
        "id": "2849c6dc"
      },
      "source": [
        "# apply one hot encoder representation \n"
      ]
    },
    {
      "cell_type": "code",
      "execution_count": null,
      "id": "dcffc260",
      "metadata": {
        "id": "dcffc260",
        "colab": {
          "base_uri": "https://localhost:8080/"
        },
        "outputId": "ed3f156e-b7eb-4d98-9fbe-d76fc24ce7c2"
      },
      "outputs": [
        {
          "output_type": "stream",
          "name": "stdout",
          "text": [
            "train_data shape=(10000, 28, 28)\n",
            "train_label shape=(10000,)\n"
          ]
        }
      ],
      "source": [
        "train_label = np.zeros((10000, 10))\n",
        "for col in range (10000):\n",
        "    val=y_train[col]\n",
        "    for row in range (10):\n",
        "        if (val==row):\n",
        "            train_label[col][row]=1\n",
        "\n",
        "print(\"train_data shape=\"+str(np.shape(x_train)))\n",
        "print(\"train_label shape=\"+str(np.shape(y_train)))"
      ]
    },
    {
      "cell_type": "code",
      "execution_count": null,
      "id": "1eb680e7",
      "metadata": {
        "id": "1eb680e7",
        "colab": {
          "base_uri": "https://localhost:8080/"
        },
        "outputId": "36f2da48-0acd-4e7d-b18e-b3cba0331570"
      },
      "outputs": [
        {
          "output_type": "stream",
          "name": "stdout",
          "text": [
            "test_data shape=(1000, 28, 28)\n",
            "test_label shape=(1000, 10)\n"
          ]
        }
      ],
      "source": [
        "test_label = np.zeros((1000, 10))\n",
        "for col in range (1000):\n",
        "    val=y_test[col]\n",
        "    for row in range (10):\n",
        "        if (val==row):\n",
        "            test_label[col,val]=1\n",
        "print(\"test_data shape=\"+str(np.shape(x_test)))\n",
        "print(\"test_label shape=\"+str(np.shape(test_label)))"
      ]
    },
    {
      "cell_type": "markdown",
      "source": [
        "# Apply CNN"
      ],
      "metadata": {
        "id": "7U0wA7Umj8PW"
      },
      "id": "7U0wA7Umj8PW"
    },
    {
      "cell_type": "code",
      "source": [
        "img_rows, img_cols = 28, 28\n",
        "data_reshape = (img_rows, img_cols, 1)"
      ],
      "metadata": {
        "id": "tLgmCoGYLS9b"
      },
      "id": "tLgmCoGYLS9b",
      "execution_count": null,
      "outputs": []
    },
    {
      "cell_type": "code",
      "source": [
        "model = Sequential()\n",
        "\n",
        "model.add(Conv2D(32, (4, 4), padding='valid', input_shape=data_reshape)) \n",
        "model.add(Activation('relu'))\n",
        "model.add(MaxPooling2D(pool_size=(2, 2),strides=2))\n",
        "\n",
        "model.add(Dropout(0.5))\n",
        "\n",
        "model.add(Conv2D(16, (3, 3)))\n",
        "model.add(Activation('relu'))\n",
        "model.add(MaxPooling2D(pool_size=(2, 2),strides=2))\n",
        "\n",
        "\n",
        "model.add(Conv2D(8, (2, 2)))\n",
        "model.add(Activation('relu'))\n",
        "model.add(MaxPooling2D(pool_size=(2, 2),strides=2))\n",
        "\n",
        "model.add(Flatten())\n",
        "\n",
        "model.add(Dense(300))\n",
        "model.add(Activation('relu'))\n",
        "\n",
        "model.add(Dense(10))\n",
        "model.add(Activation('softmax'))"
      ],
      "metadata": {
        "id": "MHx8vgX5LUHb"
      },
      "id": "MHx8vgX5LUHb",
      "execution_count": null,
      "outputs": []
    },
    {
      "cell_type": "markdown",
      "source": [
        "# Evaluating the model on the Train data    \n"
      ],
      "metadata": {
        "id": "XuWE1k2dkHvf"
      },
      "id": "XuWE1k2dkHvf"
    },
    {
      "cell_type": "code",
      "source": [
        "epoch = 15 \n",
        "batch_size = 20\n",
        "adam = Adam(learning_rate=0.001)"
      ],
      "metadata": {
        "id": "MHNUJ9M8LOt5"
      },
      "id": "MHNUJ9M8LOt5",
      "execution_count": null,
      "outputs": []
    },
    {
      "cell_type": "code",
      "source": [
        "model.compile(loss='categorical_crossentropy',optimizer=adam,metrics=['accuracy'])"
      ],
      "metadata": {
        "id": "ktaP0UvuLWIy"
      },
      "id": "ktaP0UvuLWIy",
      "execution_count": null,
      "outputs": []
    },
    {
      "cell_type": "code",
      "source": [
        "train_fit = model.fit(x_train,train_label, batch_size=batch_size, epochs=epoch,verbose=1)\n",
        "model.summary()"
      ],
      "metadata": {
        "id": "0Nw32SMgLYC6",
        "colab": {
          "base_uri": "https://localhost:8080/"
        },
        "outputId": "5408323c-02a8-4d7c-9e5f-44b8629169d1"
      },
      "id": "0Nw32SMgLYC6",
      "execution_count": null,
      "outputs": [
        {
          "output_type": "stream",
          "name": "stdout",
          "text": [
            "Epoch 1/15\n",
            "500/500 [==============================] - 13s 23ms/step - loss: 1.5508 - accuracy: 0.5983\n",
            "Epoch 2/15\n",
            "500/500 [==============================] - 8s 16ms/step - loss: 0.4640 - accuracy: 0.8535\n",
            "Epoch 3/15\n",
            "500/500 [==============================] - 8s 16ms/step - loss: 0.3302 - accuracy: 0.8990\n",
            "Epoch 4/15\n",
            "500/500 [==============================] - 9s 17ms/step - loss: 0.2709 - accuracy: 0.9163\n",
            "Epoch 5/15\n",
            "500/500 [==============================] - 8s 16ms/step - loss: 0.2215 - accuracy: 0.9307\n",
            "Epoch 6/15\n",
            "500/500 [==============================] - 8s 16ms/step - loss: 0.2022 - accuracy: 0.9341\n",
            "Epoch 7/15\n",
            "500/500 [==============================] - 8s 16ms/step - loss: 0.1807 - accuracy: 0.9426\n",
            "Epoch 8/15\n",
            "500/500 [==============================] - 8s 16ms/step - loss: 0.1721 - accuracy: 0.9450\n",
            "Epoch 9/15\n",
            "500/500 [==============================] - 8s 16ms/step - loss: 0.1573 - accuracy: 0.9508\n",
            "Epoch 10/15\n",
            "500/500 [==============================] - 8s 16ms/step - loss: 0.1553 - accuracy: 0.9526\n",
            "Epoch 11/15\n",
            "500/500 [==============================] - 8s 16ms/step - loss: 0.1354 - accuracy: 0.9561\n",
            "Epoch 12/15\n",
            "500/500 [==============================] - 8s 16ms/step - loss: 0.1312 - accuracy: 0.9599\n",
            "Epoch 13/15\n",
            "500/500 [==============================] - 8s 16ms/step - loss: 0.1288 - accuracy: 0.9576\n",
            "Epoch 14/15\n",
            "500/500 [==============================] - 8s 16ms/step - loss: 0.1239 - accuracy: 0.9595\n",
            "Epoch 15/15\n",
            "500/500 [==============================] - 8s 16ms/step - loss: 0.1157 - accuracy: 0.9630\n",
            "Model: \"sequential\"\n",
            "_________________________________________________________________\n",
            " Layer (type)                Output Shape              Param #   \n",
            "=================================================================\n",
            " conv2d (Conv2D)             (None, 25, 25, 32)        544       \n",
            "                                                                 \n",
            " activation (Activation)     (None, 25, 25, 32)        0         \n",
            "                                                                 \n",
            " max_pooling2d (MaxPooling2D  (None, 12, 12, 32)       0         \n",
            " )                                                               \n",
            "                                                                 \n",
            " dropout (Dropout)           (None, 12, 12, 32)        0         \n",
            "                                                                 \n",
            " conv2d_1 (Conv2D)           (None, 10, 10, 16)        4624      \n",
            "                                                                 \n",
            " activation_1 (Activation)   (None, 10, 10, 16)        0         \n",
            "                                                                 \n",
            " max_pooling2d_1 (MaxPooling  (None, 5, 5, 16)         0         \n",
            " 2D)                                                             \n",
            "                                                                 \n",
            " conv2d_2 (Conv2D)           (None, 4, 4, 8)           520       \n",
            "                                                                 \n",
            " activation_2 (Activation)   (None, 4, 4, 8)           0         \n",
            "                                                                 \n",
            " max_pooling2d_2 (MaxPooling  (None, 2, 2, 8)          0         \n",
            " 2D)                                                             \n",
            "                                                                 \n",
            " flatten (Flatten)           (None, 32)                0         \n",
            "                                                                 \n",
            " dense (Dense)               (None, 300)               9900      \n",
            "                                                                 \n",
            " activation_3 (Activation)   (None, 300)               0         \n",
            "                                                                 \n",
            " dense_1 (Dense)             (None, 10)                3010      \n",
            "                                                                 \n",
            " activation_4 (Activation)   (None, 10)                0         \n",
            "                                                                 \n",
            "=================================================================\n",
            "Total params: 18,598\n",
            "Trainable params: 18,598\n",
            "Non-trainable params: 0\n",
            "_________________________________________________________________\n"
          ]
        }
      ]
    },
    {
      "cell_type": "markdown",
      "source": [
        "# Evaluating the model on the test data    \n"
      ],
      "metadata": {
        "id": "DRr69e0DkUCl"
      },
      "id": "DRr69e0DkUCl"
    },
    {
      "cell_type": "code",
      "source": [
        "loss, accuracy = model.evaluate(x_test, test_label, verbose=1)\n",
        "print('Test Loss:', loss)\n",
        "print('Test Accuracy:', accuracy*100,\" %\")"
      ],
      "metadata": {
        "id": "75p4oTqvLdwS",
        "colab": {
          "base_uri": "https://localhost:8080/"
        },
        "outputId": "54d42989-8d7b-42d7-a008-1c6bf7ab9f43"
      },
      "id": "75p4oTqvLdwS",
      "execution_count": null,
      "outputs": [
        {
          "output_type": "stream",
          "name": "stdout",
          "text": [
            "32/32 [==============================] - 0s 7ms/step - loss: 0.1133 - accuracy: 0.9690\n",
            "Test Loss: 0.11329799145460129\n",
            "Test Accuracy: 96.8999981880188  %\n"
          ]
        }
      ]
    }
  ],
  "metadata": {
    "kernelspec": {
      "display_name": "Python 3 (ipykernel)",
      "language": "python",
      "name": "python3"
    },
    "language_info": {
      "codemirror_mode": {
        "name": "ipython",
        "version": 3
      },
      "file_extension": ".py",
      "mimetype": "text/x-python",
      "name": "python",
      "nbconvert_exporter": "python",
      "pygments_lexer": "ipython3",
      "version": "3.9.7"
    },
    "colab": {
      "name": "20190001_20190160_MNIST_With_CNN.ipynb",
      "provenance": [],
      "collapsed_sections": [],
      "toc_visible": true
    }
  },
  "nbformat": 4,
  "nbformat_minor": 5
}